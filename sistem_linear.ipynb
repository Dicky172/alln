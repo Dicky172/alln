{
  "nbformat": 4,
  "nbformat_minor": 0,
  "metadata": {
    "colab": {
      "provenance": [],
      "authorship_tag": "ABX9TyMprc21R4trCO1iX0XRr0TP",
      "include_colab_link": true
    },
    "kernelspec": {
      "name": "python3",
      "display_name": "Python 3"
    },
    "language_info": {
      "name": "python"
    }
  },
  "cells": [
    {
      "cell_type": "markdown",
      "metadata": {
        "id": "view-in-github",
        "colab_type": "text"
      },
      "source": [
        "<a href=\"https://colab.research.google.com/github/Dicky172/Alin/blob/master/sistem_linear.ipynb\" target=\"_parent\"><img src=\"https://colab.research.google.com/assets/colab-badge.svg\" alt=\"Open In Colab\"/></a>"
      ]
    },
    {
      "cell_type": "markdown",
      "source": [
        "#selamat bertugas ya"
      ],
      "metadata": {
        "id": "0HA8Um5EDNsJ"
      }
    },
    {
      "cell_type": "markdown",
      "source": [
        "#menggambar persamaan bidang dalam ruang 3D\n"
      ],
      "metadata": {
        "id": "FF4sJ-67z2Wj"
      }
    },
    {
      "cell_type": "markdown",
      "source": [
        "#penyelesaian sistem linear\n",
        "penyelesaian sistem persamaaan linear dengan menggunakan elominasi gauss.\n",
        "\n",
        "selesaikan persmaan beikut\n",
        "$$\n",
        "8x_1+9x_2+x_3=19\\\\\n",
        "x_1+2x_2+3x_3=9\\\\\n",
        "2x_1+x_2+x_3=5\\\\\n",
        "$$"
      ],
      "metadata": {
        "id": "LhZ4SWmL-1xo"
      }
    },
    {
      "cell_type": "markdown",
      "source": [
        "Berikut penyelesaian diatas"
      ],
      "metadata": {
        "id": "tNWwycWoAVsQ"
      }
    },
    {
      "cell_type": "code",
      "source": [
        "import numpy as np\n",
        "A=np.array ([[8,9,1,19],[1,2,3,9],[2,1,1,5]])\n"
      ],
      "metadata": {
        "id": "tGDqH6eK_9iq"
      },
      "execution_count": 3,
      "outputs": []
    },
    {
      "cell_type": "code",
      "source": [
        "import numpy as np\n",
        "A=np.array ([[8,9,1,19],[1,2,3,9],[2,1,1,5]])"
      ],
      "metadata": {
        "id": "48msxh43Dftm"
      },
      "execution_count": null,
      "outputs": []
    },
    {
      "cell_type": "code",
      "source": [
        "[[ 1 -1  1  3]\n",
        " [ 2  1  8 18]\n",
        " [ 4  2 -3 -2]]\n",
        "\n",
        "\n",
        "[[ 1.  -1.   1.   3. ]\n",
        " [ 2.   1.   8.  18. ]\n",
        " [ 2.   1.  -1.5 -1. ]]"
      ],
      "metadata": {
        "id": "1idiMACjCfxp"
      },
      "execution_count": null,
      "outputs": []
    },
    {
      "cell_type": "markdown",
      "source": [
        "#mendifinisikan fungsi operasi baris eliminasi gauss\n",
        "\n",
        "\n",
        "\n",
        "*   RosSwap()\n",
        "    hfielhfie\n",
        "*   RowScale()\n",
        "    bdjakkusdh\n",
        "*   RowAdd()\n",
        "    dgyahdqklw\n",
        "\n",
        "\n",
        "\n"
      ],
      "metadata": {
        "id": "6w0TK_6JBIP8"
      }
    },
    {
      "cell_type": "code",
      "source": [
        "def gauss_elimination(matrix):\n",
        "    \"\"\"\n",
        "    Perform Gaussian Elimination on the given matrix.\n",
        "    \"\"\"\n",
        "    n = len(matrix)\n",
        "\n",
        "\n",
        "    for i in range(n):\n",
        "\n",
        "        max_row = i\n",
        "        for k in range(i + 1, n):\n",
        "            if abs(matrix[k][i]) > abs(matrix[max_row][i]):\n",
        "                max_row = k\n",
        "        matrix[i], matrix[max_row] = matrix[max_row], matrix[i]\n",
        "\n",
        "\n",
        "        for j in range(i + 1, n):\n",
        "            factor = matrix[j][i] / matrix[i][i]\n",
        "            for k in range(i, n + 1):\n",
        "                matrix[j][k] -= factor * matrix[i][k]\n",
        "\n",
        "\n",
        "    x = [0] * n\n",
        "    for i in range(n - 1, -1, -1):\n",
        "        x[i] = matrix[i][n] / matrix[i][i]\n",
        "        for j in range(i):\n",
        "            matrix[j][n] -= matrix[j][i] * x[i]\n",
        "\n",
        "    return x\n",
        "\n",
        "\n",
        "matrix = [\n",
        "    [8,9,1,19],\n",
        " [1,2,3,9],\n",
        " [2,1,1,5]\n",
        "]\n",
        "\n",
        "solution = gauss_elimination(matrix)\n",
        "print(\"Solution:\", solution)\n"
      ],
      "metadata": {
        "colab": {
          "base_uri": "https://localhost:8080/"
        },
        "id": "bAjwSsPSE4p8",
        "outputId": "531acd53-8b1e-427d-c108-a30ee7d49f6b"
      },
      "execution_count": 6,
      "outputs": [
        {
          "output_type": "stream",
          "name": "stdout",
          "text": [
            "Solution: [1.0, 1.0, 2.0]\n"
          ]
        }
      ]
    }
  ]
}